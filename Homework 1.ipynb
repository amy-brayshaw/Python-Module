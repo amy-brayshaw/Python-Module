{
 "cells": [
  {
   "cell_type": "markdown",
   "metadata": {},
   "source": [
    "To complete the homework simply fill in your answers in this jupyter notebook!\n",
    "\n",
    "Remember that there are many ways in which markup cells can be used and you can add useful things such as references and images to better explain your answers.\n",
    "\n",
    "It is perfectly fine if you copy your answer from somewhere else in the internet as long as you understand the code you copied and cite the source. However, refrain from asking help for your colleagues (unless you're really struggling) as the ability to find information online is crucial for any tech role you might want to have in the future.\n",
    "\n",
    "<h1> Question 1: Multiple prints</h1>\n",
    "Create 3 different variables of different types and print their values using a single print statement."
   ]
  },
  {
   "cell_type": "code",
   "execution_count": 3,
   "metadata": {},
   "outputs": [
    {
     "name": "stdout",
     "output_type": "stream",
     "text": [
      "Name: Amy, Age: 27, Enjoying learning Python?: True\n"
     ]
    }
   ],
   "source": [
    "name = \"Amy\"           #string\n",
    "age = 27               #integer\n",
    "enjoying_python = True #boolean\n",
    "\n",
    "print(f\"Name: {name}, Age: {age}, Enjoying learning Python?: {enjoying_python}\")"
   ]
  },
  {
   "cell_type": "markdown",
   "metadata": {},
   "source": [
    "<h1> Question 2: Data structures</h1>\n",
    "Create two variables containing each a nested list and a nested dictionary and demonstrate how to access specific items of it."
   ]
  },
  {
   "cell_type": "code",
   "execution_count": 19,
   "metadata": {},
   "outputs": [
    {
     "data": {
      "text/plain": [
       "'bath mat'"
      ]
     },
     "execution_count": 19,
     "metadata": {},
     "output_type": "execute_result"
    }
   ],
   "source": [
    "nested_list = [\n",
    "    [\"eggs\", \"bacon\", \"sausage\"], #list 0 - items 0, 1, 2\n",
    "    [\"towel\", \"suncream\", \"beach bag\"], #list 1 - items 0, 1, 2\n",
    "    [\"toothpaste\", \"toilet roll\", \"bath mat\"] #list 2 - items 0, 1, 2\n",
    "]\n",
    "\n",
    "nested_list[2][2] "
   ]
  },
  {
   "cell_type": "code",
   "execution_count": 29,
   "metadata": {},
   "outputs": [
    {
     "data": {
      "text/plain": [
       "'Amy'"
      ]
     },
     "execution_count": 29,
     "metadata": {},
     "output_type": "execute_result"
    }
   ],
   "source": [
    "nested_dict = {\n",
    "    \"Student1\": {\"Name\": \"Amy\", \"Age\": 27},\n",
    "    \"Student2\": {\"Name\": \"Laura\", \"Age\": 23},\n",
    "    \"Student3\": {\"Name\": \"Harry\", \"Age\": 32}\n",
    "}\n",
    "\n",
    "nested_dict[\"Student1\"][\"Name\"]"
   ]
  },
  {
   "cell_type": "markdown",
   "metadata": {},
   "source": [
    "Now consider the following list,"
   ]
  },
  {
   "cell_type": "code",
   "execution_count": 39,
   "metadata": {},
   "outputs": [
    {
     "name": "stdout",
     "output_type": "stream",
     "text": [
      "[1, 2, 3, 4]\n"
     ]
    }
   ],
   "source": [
    "a_list = [1,2,3,4,5,6,7,8,9]\n",
    "\n",
    "sliced_list = a_list[:4]\n",
    "print(sliced_list)"
   ]
  },
  {
   "cell_type": "code",
   "execution_count": 41,
   "metadata": {},
   "outputs": [
    {
     "name": "stdout",
     "output_type": "stream",
     "text": [
      "[2, 4, 6, 8]\n"
     ]
    }
   ],
   "source": [
    "a_list = [1,2,3,4,5,6,7,8,9]\n",
    "\n",
    "even_numbers = [x for x in a_list if x % 2 ==0]\n",
    "print(even_numbers)"
   ]
  },
  {
   "cell_type": "code",
   "execution_count": 43,
   "metadata": {},
   "outputs": [
    {
     "name": "stdout",
     "output_type": "stream",
     "text": [
      "[3, 6, 9]\n"
     ]
    }
   ],
   "source": [
    "a_list = [1,2,3,4,5,6,7,8,9]\n",
    "\n",
    "div_by_3 = [x for x in a_list if x % 3 ==0]\n",
    "print(div_by_3)"
   ]
  },
  {
   "cell_type": "code",
   "execution_count": 53,
   "metadata": {},
   "outputs": [
    {
     "name": "stdout",
     "output_type": "stream",
     "text": [
      "I love the number 1.\n",
      "I love the number 2.\n",
      "I love the number 3.\n",
      "I love the number 4.\n",
      "I love the number 5.\n",
      "I love the number 6.\n",
      "I love the number 7.\n",
      "I love the number 8.\n",
      "I love the number 9.\n"
     ]
    }
   ],
   "source": [
    "a_list = [1,2,3,4,5,6,7,8,9]\n",
    "\n",
    "for item in a_list:\n",
    "    print(f\"I love the number {item}.\")"
   ]
  },
  {
   "cell_type": "markdown",
   "metadata": {},
   "source": [
    "1 - slice this list (by index) to contain only the numbers smaller than 5; <br>\n",
    "2 - make a loop to create a new list containing only the EVEN numbers of this list (bonus point if you use a list comprehension!!);<br>\n",
    "3 - make a loop to create a new list containing only the numbers that are multiples of 3;<br>\n",
    "Bonus - make a loop that will print every item on the list inside a sentence using a f-string."
   ]
  },
  {
   "cell_type": "markdown",
   "metadata": {},
   "source": [
    "<h1>Question 3: Creating functions</h1>\n",
    "\n",
    "Create a function that takes a list of numbers and convert them into strings. (bonus point if you use a list comprehension!!)"
   ]
  },
  {
   "cell_type": "code",
   "execution_count": 8,
   "metadata": {},
   "outputs": [
    {
     "data": {
      "text/plain": [
       "1"
      ]
     },
     "execution_count": 8,
     "metadata": {},
     "output_type": "execute_result"
    }
   ],
   "source": [
    "1"
   ]
  },
  {
   "cell_type": "code",
   "execution_count": 9,
   "metadata": {},
   "outputs": [
    {
     "data": {
      "text/plain": [
       "'1'"
      ]
     },
     "execution_count": 9,
     "metadata": {},
     "output_type": "execute_result"
    }
   ],
   "source": [
    "variable = 1\n",
    "str(variable)"
   ]
  },
  {
   "cell_type": "code",
   "execution_count": 11,
   "metadata": {},
   "outputs": [],
   "source": [
    "yet_another_list = []"
   ]
  },
  {
   "cell_type": "code",
   "execution_count": 12,
   "metadata": {},
   "outputs": [
    {
     "data": {
      "text/plain": [
       "[]"
      ]
     },
     "execution_count": 12,
     "metadata": {},
     "output_type": "execute_result"
    }
   ],
   "source": [
    "yet_another_list"
   ]
  },
  {
   "cell_type": "code",
   "execution_count": 13,
   "metadata": {},
   "outputs": [],
   "source": [
    "yet_another_list.append('cat')"
   ]
  },
  {
   "cell_type": "code",
   "execution_count": 14,
   "metadata": {},
   "outputs": [
    {
     "data": {
      "text/plain": [
       "['cat']"
      ]
     },
     "execution_count": 14,
     "metadata": {},
     "output_type": "execute_result"
    }
   ],
   "source": [
    "yet_another_list"
   ]
  },
  {
   "cell_type": "code",
   "execution_count": null,
   "metadata": {},
   "outputs": [],
   "source": []
  },
  {
   "cell_type": "code",
   "execution_count": 15,
   "metadata": {},
   "outputs": [],
   "source": [
    "def numberToString(the_list):\n",
    "    another_list = []\n",
    "    \n",
    "    for item in the_list:    \n",
    "        converted_item = str(item)\n",
    "        another_list.append(converted_item)\n",
    "        \n",
    "    return(another_list)"
   ]
  },
  {
   "cell_type": "code",
   "execution_count": null,
   "metadata": {},
   "outputs": [],
   "source": []
  },
  {
   "cell_type": "code",
   "execution_count": 16,
   "metadata": {},
   "outputs": [
    {
     "data": {
      "text/plain": [
       "['1', '2', '3', '4', '5']"
      ]
     },
     "execution_count": 16,
     "metadata": {},
     "output_type": "execute_result"
    }
   ],
   "source": [
    "my_list = [1,2,3,4,5]\n",
    "\n",
    "numberToString(the_list=my_list)"
   ]
  },
  {
   "cell_type": "code",
   "execution_count": 20,
   "metadata": {},
   "outputs": [
    {
     "data": {
      "text/plain": [
       "['1', '2', '3', '4', '5']"
      ]
     },
     "execution_count": 20,
     "metadata": {},
     "output_type": "execute_result"
    }
   ],
   "source": [
    "new_list = [str(number) for number in my_list]\n",
    "new_list"
   ]
  },
  {
   "cell_type": "code",
   "execution_count": 19,
   "metadata": {},
   "outputs": [
    {
     "data": {
      "text/plain": [
       "['0', '1', '2', '3', '4', '5', '6', '7', '8', '9']"
      ]
     },
     "execution_count": 19,
     "metadata": {},
     "output_type": "execute_result"
    }
   ],
   "source": [
    "new_list = [str(number) for number in range(10)]\n",
    "new_list"
   ]
  },
  {
   "cell_type": "markdown",
   "metadata": {},
   "source": [
    "Create a small calculator. The function should pick two numbers and perform one of four mathematical operations with it (sum/subtraction, division, multiplication, exponents). The desired operation should be an option (hint: what IF the user wants to do a sum?)\n",
    "\n",
    "Bonus: Make a function that can pick ANY number of numbers."
   ]
  },
  {
   "cell_type": "code",
   "execution_count": null,
   "metadata": {},
   "outputs": [],
   "source": []
  },
  {
   "cell_type": "markdown",
   "metadata": {},
   "source": [
    "Create a function that check if a number is within a list of numbers."
   ]
  },
  {
   "cell_type": "code",
   "execution_count": null,
   "metadata": {},
   "outputs": [],
   "source": []
  },
  {
   "cell_type": "markdown",
   "metadata": {},
   "source": [
    "Bonus: similar to the item above, create a function that checks if a string contains a given substring, e.g. 'I have a cat' contains the string sequence 'cat' or 'ave'."
   ]
  },
  {
   "cell_type": "code",
   "execution_count": null,
   "metadata": {},
   "outputs": [],
   "source": []
  },
  {
   "cell_type": "markdown",
   "metadata": {},
   "source": [
    "Bonus: create a function that given the initial speed of a projectile that is thrown at 90 degrees will calculate how much time the projectile will take to get back to the initial altitude. (yes you're expected to disregard air resistence)"
   ]
  },
  {
   "cell_type": "code",
   "execution_count": null,
   "metadata": {},
   "outputs": [],
   "source": []
  },
  {
   "cell_type": "markdown",
   "metadata": {},
   "source": [
    "<h1>solve these questions...or ELSE</h1>\n",
    "\n",
    "Why the nested if statement below doesn't only produce the first print? Can you modify it so it produces the desired output?"
   ]
  },
  {
   "cell_type": "code",
   "execution_count": 7,
   "metadata": {},
   "outputs": [
    {
     "name": "stdout",
     "output_type": "stream",
     "text": [
      "Yeeeey!\n"
     ]
    }
   ],
   "source": [
    "food = 'Pizza'\n",
    "drinks = 'Beer'\n",
    "\n",
    "if food == 'Pizza' and drinks == 'Beer':\n",
    "    print('Yeeeey!')\n",
    "elif food == 'Pizza' and drinks != 'Beer':\n",
    "    print('Yey.')\n",
    "elif food != 'Pizza' and drinks == 'Beer':\n",
    "    print('Yey!')\n",
    "else:\n",
    "    print('.....???')"
   ]
  },
  {
   "cell_type": "markdown",
   "metadata": {},
   "source": [
    "<h1> Debugging </h1>\n",
    "None of the blocks of code below work. Your task is to make them work (if possible!) and add markup cells (or comments) explaining why they don't work."
   ]
  },
  {
   "cell_type": "markdown",
   "metadata": {},
   "source": [
    "1. Cell was markdown rather than code"
   ]
  },
  {
   "cell_type": "code",
   "execution_count": 9,
   "metadata": {},
   "outputs": [
    {
     "name": "stdout",
     "output_type": "stream",
     "text": [
      "Is this working?\n"
     ]
    }
   ],
   "source": [
    "print(\"Is this working?\")"
   ]
  },
  {
   "cell_type": "markdown",
   "metadata": {},
   "source": [
    "2. # in front of code means it is a comment and therefore will not function"
   ]
  },
  {
   "cell_type": "code",
   "execution_count": 11,
   "metadata": {},
   "outputs": [
    {
     "name": "stdout",
     "output_type": "stream",
     "text": [
      "does this work?\n"
     ]
    }
   ],
   "source": [
    "print(\"does this work?\")"
   ]
  },
  {
   "cell_type": "markdown",
   "metadata": {},
   "source": [
    "3. Inconsistent use of \" and ' results in error"
   ]
  },
  {
   "cell_type": "code",
   "execution_count": 13,
   "metadata": {},
   "outputs": [
    {
     "name": "stdout",
     "output_type": "stream",
     "text": [
      "about now?\n"
     ]
    }
   ],
   "source": [
    "print(\"about now?\")"
   ]
  },
  {
   "cell_type": "markdown",
   "metadata": {},
   "source": [
    "4. Comma required between variables"
   ]
  },
  {
   "cell_type": "code",
   "execution_count": 33,
   "metadata": {},
   "outputs": [
    {
     "name": "stdout",
     "output_type": "stream",
     "text": [
      "Today on a scale from 1 to 10 I am feeling... 10\n"
     ]
    }
   ],
   "source": [
    "text_variable = \"Today on a scale from 1 to 10 I am feeling...\"\n",
    "my_mood = 10\n",
    "print(text_variable, my_mood)"
   ]
  },
  {
   "cell_type": "markdown",
   "metadata": {},
   "source": [
    "5. Can't combine a string (the text) with an integer (number). Change int to str to work."
   ]
  },
  {
   "cell_type": "code",
   "execution_count": 47,
   "metadata": {},
   "outputs": [
    {
     "name": "stdout",
     "output_type": "stream",
     "text": [
      "Today on a scale from 1 to 10 I am feeling...10\n"
     ]
    }
   ],
   "source": [
    "text_variable = \"Today on a scale from 1 to 10 I am feeling...\"\n",
    "my_mood = 10\n",
    "print(text_variable+str(my_mood)) #Yep there are ways to make it work with a + operator too!"
   ]
  },
  {
   "cell_type": "markdown",
   "metadata": {},
   "source": [
    "6. No ' marks around item 1 and item 2 so the variables weren't defined"
   ]
  },
  {
   "cell_type": "code",
   "execution_count": 45,
   "metadata": {},
   "outputs": [],
   "source": [
    "a_dictionary = {'item1': 'Value 1',\n",
    "                'item2': 'Value 2',}"
   ]
  },
  {
   "cell_type": "markdown",
   "metadata": {},
   "source": [
    "7. Boolean function requires == rather than ="
   ]
  },
  {
   "cell_type": "code",
   "execution_count": 15,
   "metadata": {},
   "outputs": [
    {
     "data": {
      "text/plain": [
       "True"
      ]
     },
     "execution_count": 15,
     "metadata": {},
     "output_type": "execute_result"
    }
   ],
   "source": [
    "1 == 1 # Should return True"
   ]
  },
  {
   "cell_type": "markdown",
   "metadata": {},
   "source": [
    "8. Lower case h in happy for mood variable meant that mood did not = Happy"
   ]
  },
  {
   "cell_type": "code",
   "execution_count": 23,
   "metadata": {},
   "outputs": [
    {
     "name": "stdout",
     "output_type": "stream",
     "text": [
      "Clap your hands\n"
     ]
    }
   ],
   "source": [
    "# Why isn't the outcome 'Clap your hands?'\n",
    "mood = 'Happy'\n",
    "if mood == 'Happy':\n",
    "    print('Clap your hands')\n",
    "else:\n",
    "    print('...do I look like I have this one figured out?')"
   ]
  },
  {
   "cell_type": "markdown",
   "metadata": {},
   "source": [
    "9. There was no indent before print(x,y)"
   ]
  },
  {
   "cell_type": "code",
   "execution_count": 27,
   "metadata": {},
   "outputs": [
    {
     "name": "stdout",
     "output_type": "stream",
     "text": [
      "a word another word\n"
     ]
    }
   ],
   "source": [
    "def printerfunction(x,y):\n",
    "    print(x,y)\n",
    "\n",
    "printerfunction(\"a word\", \"another word\")"
   ]
  },
  {
   "cell_type": "markdown",
   "metadata": {},
   "source": [
    "10. Same as Q8??"
   ]
  },
  {
   "cell_type": "code",
   "execution_count": 31,
   "metadata": {},
   "outputs": [
    {
     "name": "stdout",
     "output_type": "stream",
     "text": [
      "Clap your hands\n"
     ]
    }
   ],
   "source": [
    "# bonus/annoying round, why is this crashing?\n",
    "mood = 'Happy'\n",
    "if mood == 'Happy':\n",
    "   print('Clap your hands')\n",
    "else:\n",
    "    print('...do I look like I have this one figured out?')"
   ]
  }
 ],
 "metadata": {
  "kernelspec": {
   "display_name": "Python 3 (ipykernel)",
   "language": "python",
   "name": "python3"
  },
  "language_info": {
   "codemirror_mode": {
    "name": "ipython",
    "version": 3
   },
   "file_extension": ".py",
   "mimetype": "text/x-python",
   "name": "python",
   "nbconvert_exporter": "python",
   "pygments_lexer": "ipython3",
   "version": "3.12.7"
  }
 },
 "nbformat": 4,
 "nbformat_minor": 4
}
